{
 "cells": [
  {
   "cell_type": "markdown",
   "metadata": {},
   "source": [
    "# Stratergy Trading using variation in the data"
   ]
  },
  {
   "cell_type": "code",
   "execution_count": 371,
   "metadata": {},
   "outputs": [],
   "source": [
    "import numpy as np\n",
    "import pandas as pd\n",
    "import matplotlib.pyplot as plt\n",
    "import hypothesis_testing.skewness as sku\n",
    "import seaborn as sns\n",
    "import statistics as st\n",
    "sns.set()"
   ]
  },
  {
   "cell_type": "code",
   "execution_count": 372,
   "metadata": {},
   "outputs": [],
   "source": [
    "import hypothesis_testing.variance as var"
   ]
  },
  {
   "cell_type": "code",
   "execution_count": 4,
   "metadata": {},
   "outputs": [],
   "source": [
    "# loading the data from csv file.\n",
    "stock_eod = pd.read_csv('./EOD-HD.csv')"
   ]
  },
  {
   "cell_type": "code",
   "execution_count": 7,
   "metadata": {},
   "outputs": [
    {
     "data": {
      "text/html": [
       "<div>\n",
       "<style scoped>\n",
       "    .dataframe tbody tr th:only-of-type {\n",
       "        vertical-align: middle;\n",
       "    }\n",
       "\n",
       "    .dataframe tbody tr th {\n",
       "        vertical-align: top;\n",
       "    }\n",
       "\n",
       "    .dataframe thead th {\n",
       "        text-align: right;\n",
       "    }\n",
       "</style>\n",
       "<table border=\"1\" class=\"dataframe\">\n",
       "  <thead>\n",
       "    <tr style=\"text-align: right;\">\n",
       "      <th></th>\n",
       "      <th>Date</th>\n",
       "      <th>Open</th>\n",
       "      <th>High</th>\n",
       "      <th>Low</th>\n",
       "      <th>Close</th>\n",
       "      <th>Volume</th>\n",
       "      <th>Dividend</th>\n",
       "      <th>Split</th>\n",
       "      <th>Adj_Open</th>\n",
       "      <th>Adj_High</th>\n",
       "      <th>Adj_Low</th>\n",
       "      <th>Adj_Close</th>\n",
       "      <th>Adj_Volume</th>\n",
       "    </tr>\n",
       "  </thead>\n",
       "  <tbody>\n",
       "    <tr>\n",
       "      <th>0</th>\n",
       "      <td>2019-02-25</td>\n",
       "      <td>192.75</td>\n",
       "      <td>193.4199</td>\n",
       "      <td>189.96</td>\n",
       "      <td>189.98</td>\n",
       "      <td>6190665.0</td>\n",
       "      <td>0.0</td>\n",
       "      <td>1.0</td>\n",
       "      <td>192.75</td>\n",
       "      <td>193.4199</td>\n",
       "      <td>189.96</td>\n",
       "      <td>189.98</td>\n",
       "      <td>6190665.0</td>\n",
       "    </tr>\n",
       "    <tr>\n",
       "      <th>1</th>\n",
       "      <td>2019-02-22</td>\n",
       "      <td>191.69</td>\n",
       "      <td>192.5400</td>\n",
       "      <td>191.62</td>\n",
       "      <td>192.39</td>\n",
       "      <td>3320598.0</td>\n",
       "      <td>0.0</td>\n",
       "      <td>1.0</td>\n",
       "      <td>191.69</td>\n",
       "      <td>192.5400</td>\n",
       "      <td>191.62</td>\n",
       "      <td>192.39</td>\n",
       "      <td>3320598.0</td>\n",
       "    </tr>\n",
       "    <tr>\n",
       "      <th>2</th>\n",
       "      <td>2019-02-21</td>\n",
       "      <td>191.85</td>\n",
       "      <td>192.3700</td>\n",
       "      <td>190.61</td>\n",
       "      <td>191.82</td>\n",
       "      <td>3094240.0</td>\n",
       "      <td>0.0</td>\n",
       "      <td>1.0</td>\n",
       "      <td>191.85</td>\n",
       "      <td>192.3700</td>\n",
       "      <td>190.61</td>\n",
       "      <td>191.82</td>\n",
       "      <td>3094240.0</td>\n",
       "    </tr>\n",
       "    <tr>\n",
       "      <th>3</th>\n",
       "      <td>2019-02-20</td>\n",
       "      <td>192.39</td>\n",
       "      <td>192.4000</td>\n",
       "      <td>191.11</td>\n",
       "      <td>191.85</td>\n",
       "      <td>3970075.0</td>\n",
       "      <td>0.0</td>\n",
       "      <td>1.0</td>\n",
       "      <td>192.39</td>\n",
       "      <td>192.4000</td>\n",
       "      <td>191.11</td>\n",
       "      <td>191.85</td>\n",
       "      <td>3970075.0</td>\n",
       "    </tr>\n",
       "    <tr>\n",
       "      <th>4</th>\n",
       "      <td>2019-02-19</td>\n",
       "      <td>191.71</td>\n",
       "      <td>193.1900</td>\n",
       "      <td>191.28</td>\n",
       "      <td>192.33</td>\n",
       "      <td>3828464.0</td>\n",
       "      <td>0.0</td>\n",
       "      <td>1.0</td>\n",
       "      <td>191.71</td>\n",
       "      <td>193.1900</td>\n",
       "      <td>191.28</td>\n",
       "      <td>192.33</td>\n",
       "      <td>3828464.0</td>\n",
       "    </tr>\n",
       "  </tbody>\n",
       "</table>\n",
       "</div>"
      ],
      "text/plain": [
       "         Date    Open      High     Low   Close     Volume  Dividend  Split  \\\n",
       "0  2019-02-25  192.75  193.4199  189.96  189.98  6190665.0       0.0    1.0   \n",
       "1  2019-02-22  191.69  192.5400  191.62  192.39  3320598.0       0.0    1.0   \n",
       "2  2019-02-21  191.85  192.3700  190.61  191.82  3094240.0       0.0    1.0   \n",
       "3  2019-02-20  192.39  192.4000  191.11  191.85  3970075.0       0.0    1.0   \n",
       "4  2019-02-19  191.71  193.1900  191.28  192.33  3828464.0       0.0    1.0   \n",
       "\n",
       "   Adj_Open  Adj_High  Adj_Low  Adj_Close  Adj_Volume  \n",
       "0    192.75  193.4199   189.96     189.98   6190665.0  \n",
       "1    191.69  192.5400   191.62     192.39   3320598.0  \n",
       "2    191.85  192.3700   190.61     191.82   3094240.0  \n",
       "3    192.39  192.4000   191.11     191.85   3970075.0  \n",
       "4    191.71  193.1900   191.28     192.33   3828464.0  "
      ]
     },
     "execution_count": 7,
     "metadata": {},
     "output_type": "execute_result"
    }
   ],
   "source": [
    "# peeping at the data.\n",
    "stock_eod.head()"
   ]
  },
  {
   "cell_type": "code",
   "execution_count": 8,
   "metadata": {},
   "outputs": [],
   "source": [
    "# Reducing the data to the data used in this model.\n",
    "stock = stock_eod.drop(columns=['Dividend','Split','Adj_Open','Adj_High','Adj_Low','Adj_Close','Adj_Volume'])"
   ]
  },
  {
   "cell_type": "code",
   "execution_count": 305,
   "metadata": {},
   "outputs": [
    {
     "data": {
      "text/plain": [
       "Text(0.5, 1.0, 'Relationship between open and close')"
      ]
     },
     "execution_count": 305,
     "metadata": {},
     "output_type": "execute_result"
    },
    {
     "data": {
      "image/png": "[encoded data removed]",
      "text/plain": [
       "<Figure size 432x288 with 1 Axes>"
      ]
     },
     "metadata": {},
     "output_type": "display_data"
    }
   ],
   "source": [
    "# looking at the data to see if its linear.\n",
    "plt.scatter(stock['Open'],stock['Close'])\n",
    "plt.xlim(0,max(stock['Open']))\n",
    "plt.ylim(0,max(stock['Close']))\n",
    "plt.xlabel('Open')\n",
    "plt.ylabel('Close')\n",
    "plt.title('Relationship between open and close')"
   ]
  },
  {
   "cell_type": "code",
   "execution_count": 15,
   "metadata": {},
   "outputs": [
    {
     "data": {
      "text/plain": [
       "Text(0.5, 1.0, 'Relationship between High and Low')"
      ]
     },
     "execution_count": 15,
     "metadata": {},
     "output_type": "execute_result"
    },
    {
     "data": {
      "image/png": "[encoded data removed]",
      "text/plain": [
       "<Figure size 432x288 with 1 Axes>"
      ]
     },
     "metadata": {},
     "output_type": "display_data"
    }
   ],
   "source": [
    "# looking at the data to see if its linear.\n",
    "plt.scatter(stock['High'],stock['Low'])\n",
    "plt.xlim(0,max(stock['High']))\n",
    "plt.ylim(0,max(stock['Low']))\n",
    "plt.xlabel('High')\n",
    "plt.ylabel('Low')\n",
    "plt.title('Relationship between High and Low')"
   ]
  },
  {
   "cell_type": "markdown",
   "metadata": {},
   "source": [
    "### Looking at the Skewness to see which side the data is shifted to."
   ]
  },
  {
   "cell_type": "code",
   "execution_count": 21,
   "metadata": {},
   "outputs": [
    {
     "name": "stdout",
     "output_type": "stream",
     "text": [
      "open : Right Skewed\n",
      "close : Right Skewed\n",
      "high : Right Skewed\n",
      "Low : Right Skewed\n"
     ]
    }
   ],
   "source": [
    "skew = sku.skewness()\n",
    "print(\"open : \" + skew.skew_ness(stock['Open']))\n",
    "print(\"close : \" + skew.skew_ness(stock['Close']))\n",
    "print(\"high : \" + skew.skew_ness(stock['High']))\n",
    "print(\"Low : \" + skew.skew_ness(stock['Low']))"
   ]
  },
  {
   "cell_type": "markdown",
   "metadata": {},
   "source": [
    "### Confirming the skewness with mean and median"
   ]
  },
  {
   "cell_type": "code",
   "execution_count": 25,
   "metadata": {},
   "outputs": [
    {
     "name": "stdout",
     "output_type": "stream",
     "text": [
      "mean open : 52.83322211507895 median open : 41.1\n",
      "mean close : 52.83729464872311 median close : 41.09\n",
      "mean high : 53.40220360283988 median high : 41.56\n",
      "mean low : 52.25500046624987 median low : 40.59\n"
     ]
    }
   ],
   "source": [
    "# Looking at the mean and median to understand the pul of the data.\n",
    "print(\"mean open : {} median open : {}\".format(st.mean(stock['Open']),st.median(stock['Open'])))\n",
    "print(\"mean close : {} median close : {}\".format(st.mean(stock['Close']),st.median(stock['Close'])))\n",
    "print(\"mean high : {} median high : {}\".format(st.mean(stock['High']),st.median(stock['High'])))\n",
    "print(\"mean low : {} median low : {}\".format(st.mean(stock['Low']),st.median(stock['Low'])))"
   ]
  },
  {
   "cell_type": "markdown",
   "metadata": {},
   "source": [
    "### Looking at the variance of the data features\n",
    "#### The result below shows that the data features all have the same variablity."
   ]
  },
  {
   "cell_type": "code",
   "execution_count": 304,
   "metadata": {},
   "outputs": [
    {
     "name": "stdout",
     "output_type": "stream",
     "text": [
      "variance of open : 1510.754009697632\n",
      "variance of close : 1511.2985048218864\n",
      "variance of high : 1529.705806593897\n",
      "variance of Low : 1489.9654666404952\n",
      "Standard Deviation of open : 38.86841918187093\n",
      "Standard Deviation of close : 38.87542288929969\n",
      "Standard Deviation of high : 39.11145364971618\n",
      "Standard Deviation of Low : 38.60007081134042\n",
      "Co-Variance of open : 0.7356814069982233\n",
      "Co-Variance of close : 0.7357572553203985\n",
      "Co-Variance of high : 0.7323940027005977\n",
      "Co-Variance of Low : 0.7386866417936633\n"
     ]
    }
   ],
   "source": [
    "# Checks differentt variance of the stock features.\n",
    "var = var.variance()\n",
    "print(\"variance of open : \" + str(var.sample(stock['Open'])))\n",
    "print(\"variance of close : \" + str(var.sample(stock['Close'])))\n",
    "print(\"variance of high : \" + str(var.sample(stock['High'])))\n",
    "print(\"variance of Low : \" + str(var.sample(stock['Low'])))\n",
    "print(\"Standard Deviation of open : \" + str(var.standard_deviation_sample(stock['Open'])))\n",
    "print(\"Standard Deviation of close : \" + str(var.standard_deviation_sample(stock['Close'])))\n",
    "print(\"Standard Deviation of high : \" + str(var.standard_deviation_sample(stock['High'])))\n",
    "print(\"Standard Deviation of Low : \" + str(var.standard_deviation_sample(stock['Low'])))\n",
    "print(\"Co-Variance of open : \" + str(var.covarianceSample(stock['Open'])))\n",
    "print(\"Co-Variance of close : \" + str(var.covarianceSample(stock['Close'])))\n",
    "print(\"Co-Variance of high : \" + str(var.covarianceSample(stock['High'])))\n",
    "print(\"Co-Variance of Low : \" + str(var.covarianceSample(stock['Low'])))"
   ]
  },
  {
   "cell_type": "markdown",
   "metadata": {},
   "source": [
    "### Sortino Ratio function"
   ]
  },
  {
   "cell_type": "code",
   "execution_count": 303,
   "metadata": {},
   "outputs": [],
   "source": [
    "# This sortino_ratio helps to underrstand the harmfull volatility.This particular funtion is only\n",
    "# used in bond equities.\n",
    "def sortino_ratio(buy_amount,current_amount,protfolios):\n",
    "    inflation_rate = 1.6\n",
    "    riskfree_10years = 2.0 - inflation_rate\n",
    "    riskfree_30years = 3.16 - inflation_rate\n",
    "    Expected_return_of_portfolio = [sum(weights * expected_return) for weights, expected_return in portfolios]\n",
    "    vari = var.variance()\n",
    "    std_devn = vari.standard_deviation_sample([buy_amount,current_amount])\n",
    "    return (Expected_return_of_portfolio - riskfree_30years)/std_devn"
   ]
  },
  {
   "cell_type": "markdown",
   "metadata": {},
   "source": [
    "### Predicting the close feature using liner regresion"
   ]
  },
  {
   "cell_type": "code",
   "execution_count": 263,
   "metadata": {},
   "outputs": [],
   "source": [
    "from sklearn import preprocessing\n",
    "le = preprocessing.LabelEncoder()\n",
    "le.fit(stock['Date'])\n",
    "stock['Date'] = le.transform(stock['Date'])"
   ]
  },
  {
   "cell_type": "code",
   "execution_count": 339,
   "metadata": {},
   "outputs": [],
   "source": [
    "# remove first 10 rows for demo\n",
    "example = stock.loc[:10]\n",
    "stock_example = stock.loc[10:]\n",
    "stock_reduce = stock.loc[10:]"
   ]
  },
  {
   "cell_type": "code",
   "execution_count": 264,
   "metadata": {},
   "outputs": [],
   "source": [
    "# used to reverse the process.\n",
    "#le.inverse_transform(stock['Date'])"
   ]
  },
  {
   "cell_type": "code",
   "execution_count": 324,
   "metadata": {},
   "outputs": [
    {
     "data": {
      "text/html": [
       "<div>\n",
       "<style scoped>\n",
       "    .dataframe tbody tr th:only-of-type {\n",
       "        vertical-align: middle;\n",
       "    }\n",
       "\n",
       "    .dataframe tbody tr th {\n",
       "        vertical-align: top;\n",
       "    }\n",
       "\n",
       "    .dataframe thead th {\n",
       "        text-align: right;\n",
       "    }\n",
       "</style>\n",
       "<table border=\"1\" class=\"dataframe\">\n",
       "  <thead>\n",
       "    <tr style=\"text-align: right;\">\n",
       "      <th></th>\n",
       "      <th>Date</th>\n",
       "      <th>Open</th>\n",
       "      <th>High</th>\n",
       "      <th>Low</th>\n",
       "      <th>Volume</th>\n",
       "    </tr>\n",
       "  </thead>\n",
       "  <tbody>\n",
       "    <tr>\n",
       "      <th>10</th>\n",
       "      <td>9426</td>\n",
       "      <td>183.05</td>\n",
       "      <td>184.5800</td>\n",
       "      <td>182.72</td>\n",
       "      <td>2792352.0</td>\n",
       "    </tr>\n",
       "    <tr>\n",
       "      <th>11</th>\n",
       "      <td>9425</td>\n",
       "      <td>183.74</td>\n",
       "      <td>184.9231</td>\n",
       "      <td>182.45</td>\n",
       "      <td>2793448.0</td>\n",
       "    </tr>\n",
       "    <tr>\n",
       "      <th>12</th>\n",
       "      <td>9424</td>\n",
       "      <td>186.69</td>\n",
       "      <td>186.6900</td>\n",
       "      <td>184.06</td>\n",
       "      <td>3071927.0</td>\n",
       "    </tr>\n",
       "    <tr>\n",
       "      <th>13</th>\n",
       "      <td>9423</td>\n",
       "      <td>186.89</td>\n",
       "      <td>186.9900</td>\n",
       "      <td>184.69</td>\n",
       "      <td>3995341.0</td>\n",
       "    </tr>\n",
       "    <tr>\n",
       "      <th>14</th>\n",
       "      <td>9422</td>\n",
       "      <td>184.30</td>\n",
       "      <td>186.4300</td>\n",
       "      <td>183.84</td>\n",
       "      <td>3049925.0</td>\n",
       "    </tr>\n",
       "  </tbody>\n",
       "</table>\n",
       "</div>"
      ],
      "text/plain": [
       "    Date    Open      High     Low     Volume\n",
       "10  9426  183.05  184.5800  182.72  2792352.0\n",
       "11  9425  183.74  184.9231  182.45  2793448.0\n",
       "12  9424  186.69  186.6900  184.06  3071927.0\n",
       "13  9423  186.89  186.9900  184.69  3995341.0\n",
       "14  9422  184.30  186.4300  183.84  3049925.0"
      ]
     },
     "execution_count": 324,
     "metadata": {},
     "output_type": "execute_result"
    }
   ],
   "source": [
    "stock_example = stock.drop(columns=['Close'])\n",
    "train = stock_example.loc[10:]\n",
    "test = stock['Close'].loc[10:]\n",
    "train.head()"
   ]
  },
  {
   "cell_type": "code",
   "execution_count": 325,
   "metadata": {},
   "outputs": [],
   "source": [
    "from sklearn.model_selection import train_test_split\n",
    "x_train,x_test,y_train,y_test = train_test_split(train,test,test_size=0.3,random_state=10)"
   ]
  },
  {
   "cell_type": "code",
   "execution_count": 326,
   "metadata": {},
   "outputs": [],
   "source": [
    "from sklearn import linear_model\n",
    "from sklearn.metrics import mean_squared_error, r2_score"
   ]
  },
  {
   "cell_type": "code",
   "execution_count": 327,
   "metadata": {},
   "outputs": [
    {
     "name": "stdout",
     "output_type": "stream",
     "text": [
      "Coefficients: \n",
      " [ 1.99597739e-05 -4.50414111e-01  8.03345685e-01  6.45688085e-01\n",
      " -4.31711333e-09]\n",
      "Mean squared error: 0.20\n",
      "Variance score: 1.00\n"
     ]
    }
   ],
   "source": [
    "lr = linear_model.LinearRegression()\n",
    "lr.fit(x_train, y_train)\n",
    "y_pred = lr.predict(x_test)\n",
    "print('Coefficients: \\n', lr.coef_)\n",
    "print(\"Mean squared error: %.2f\"% mean_squared_error(y_test, y_pred))\n",
    "print('Variance score: %.2f' % r2_score(y_test, y_pred))"
   ]
  },
  {
   "cell_type": "code",
   "execution_count": 328,
   "metadata": {},
   "outputs": [],
   "source": [
    "y_pred = lr.predict(np.array([max(stock['Date'])+1,10.83,10.84,10.65,14102614]).reshape(-1, 5))"
   ]
  },
  {
   "cell_type": "code",
   "execution_count": 329,
   "metadata": {},
   "outputs": [
    {
     "data": {
      "text/plain": [
       "array([10.75665642])"
      ]
     },
     "execution_count": 329,
     "metadata": {},
     "output_type": "execute_result"
    }
   ],
   "source": [
    "y_pred"
   ]
  },
  {
   "cell_type": "code",
   "execution_count": 439,
   "metadata": {},
   "outputs": [],
   "source": [
    "# checks if the stock has become volatile.\n",
    "# returns 0 for sell alert volatile\n",
    "# returns 1 if the stock has gone low\n",
    "# returns 2 to keep it.\n",
    "def check_volatility(curr_sd,mean_val,last_ten,close):\n",
    "    vari = var.variance()\n",
    "    last_ten.append(close)\n",
    "    out = curr_sd - vari.standard_deviation_sample(last_ten)\n",
    "    percent_change = (out/curr_sd) # if its positive then there is a decrease\n",
    "    #print(percent_change,st.mean(last_ten),mean_val)\n",
    "    if percent_change > 120 and mean_val<(st.mean(last_ten)):\n",
    "        print(\"sell some to gain profit...\")\n",
    "        return 0\n",
    "    elif percent_change > 50 and mean_val<(st.mean(last_ten)):\n",
    "        print(\"sell, but can wait for the close before.\")\n",
    "        return 0\n",
    "    elif percent_change < 0 and mean_val>(st.mean(last_ten)):\n",
    "        print(\"prices have gone low\")\n",
    "        return 1\n",
    "    elif percent_change < 0 and mean_val<(st.mean(last_ten)):\n",
    "        print(\"should wait and watch for the price to go high.\")\n",
    "        return 1\n",
    "    else : \n",
    "        print(\"keep watch if it is getting volatile.\")\n",
    "        return 2\n",
    "    "
   ]
  },
  {
   "cell_type": "markdown",
   "metadata": {},
   "source": [
    "### Minimizing Downgrade funcrion"
   ]
  },
  {
   "cell_type": "code",
   "execution_count": 443,
   "metadata": {},
   "outputs": [],
   "source": [
    "# This function suggests when to sell a stock \n",
    "# and when to minimise your loss to min.\n",
    "#The method for bonds is inverse, where the bond value increases and the yeild decreases.\n",
    "def minimize_downgrade(buy_amount,current_amount,mean_val,current_sd,close_predictions,stock_amount,last_ten):\n",
    "    state_value = {0:\"Sell Alert\",1:\"Low price expected\",2:\"stable for now\"}\n",
    "    diff_in_value = buy_amount - current_amount\n",
    "    \n",
    "    if current_sd == 1:\n",
    "        print(\"sell as the prices are not expeted to grow unless there is any indication of other factors..\")\n",
    "\n",
    "    if(diff_in_value >= 0):\n",
    "        print(\"keep\")\n",
    "        state = check_volatility(current_sd,mean_val,last_ten,close_predictions)\n",
    "        return state\n",
    "    elif(diff_in_value<0):\n",
    "        print(\"alert : prices have gone low\")\n",
    "        state_value = check_volatility(current_sd,mean_val,last_ten,close_predictions)\n",
    "        if state_value == 1:\n",
    "            print(\"wait for an increase...\")\n",
    "    return state_value\n",
    "            "
   ]
  },
  {
   "cell_type": "markdown",
   "metadata": {},
   "source": [
    "### Strategy test to see if the model performs well."
   ]
  },
  {
   "cell_type": "code",
   "execution_count": 444,
   "metadata": {},
   "outputs": [
    {
     "name": "stdout",
     "output_type": "stream",
     "text": [
      "########### DAY 0 ##########\n",
      "alert : prices have gone low\n",
      "should wait and watch for the price to go high.\n",
      "wait for an increase...\n",
      "Low price expected\n",
      "########### DAY 1 ##########\n",
      "keep\n",
      "should wait and watch for the price to go high.\n",
      "Low price expected\n",
      "########### DAY 2 ##########\n",
      "keep\n",
      "should wait and watch for the price to go high.\n",
      "Low price expected\n",
      "########### DAY 3 ##########\n",
      "alert : prices have gone low\n",
      "should wait and watch for the price to go high.\n",
      "wait for an increase...\n",
      "Low price expected\n",
      "########### DAY 4 ##########\n",
      "keep\n",
      "should wait and watch for the price to go high.\n",
      "Low price expected\n",
      "########### DAY 5 ##########\n",
      "keep\n",
      "should wait and watch for the price to go high.\n",
      "Low price expected\n",
      "########### DAY 6 ##########\n",
      "keep\n",
      "should wait and watch for the price to go high.\n",
      "Low price expected\n",
      "########### DAY 7 ##########\n",
      "keep\n",
      "should wait and watch for the price to go high.\n",
      "Low price expected\n",
      "########### DAY 8 ##########\n",
      "keep\n",
      "should wait and watch for the price to go high.\n",
      "Low price expected\n",
      "########### DAY 9 ##########\n",
      "keep\n",
      "should wait and watch for the price to go high.\n",
      "Low price expected\n",
      "########### DAY 10 ##########\n",
      "keep\n",
      "should wait and watch for the price to go high.\n",
      "Low price expected\n"
     ]
    }
   ],
   "source": [
    "state_value = {0:\"Sell Alert\",1:\"Low price expected\",2:\"stable for now\",-1:\"be aware\"}\n",
    "y_pred_val = []\n",
    "for i in range(11):\n",
    "    print('########### DAY {} ##########'.format(i))\n",
    "    variance = list(stock_reduce['Close'])\n",
    "    vari = var.variance()\n",
    "    sd = vari.standard_deviation_sample(variance)\n",
    "    y_pred = lr.predict(np.array([max(example['Date'])+1,example['Open'].loc[i],example['High'].loc[i],example['Low'].loc[i],example['Volume'].loc[i]]).reshape(-1, 5))\n",
    "    y_pred_val.append(y_pred)\n",
    "    state = minimize_downgrade(buy_amount=192,current_amount=example['Open'].loc[i],mean_val = st.mean(variance),current_sd=sd,close_predictions=185,stock_amount=10,last_ten=variance)\n",
    "    print(state_value[state])"
   ]
  },
  {
   "cell_type": "code",
   "execution_count": 446,
   "metadata": {},
   "outputs": [
    {
     "data": {
      "image/png": "[encoded data removed]",
      "text/plain": [
       "<Figure size 432x288 with 1 Axes>"
      ]
     },
     "metadata": {},
     "output_type": "display_data"
    }
   ],
   "source": [
    "# looking at the data to see if its linear.\n",
    "plt.plot(range(11),y_pred_val,label=\"Predicted values\")\n",
    "plt.plot(range(11),stock['Close'].loc[:10],label=\"True Values\")\n",
    "plt.ylabel('close values')\n",
    "plt.xlabel('day count')\n",
    "plt.title('Relationship between High and Low')\n",
    "plt.legend(loc='upper right')\n",
    "plt.show()\n",
    "\n",
    "#\n",
    "# This shows that the linear model performs wwell in predicting the close amount based on the open,high,low and volume.\n",
    "#"
   ]
  },
  {
   "cell_type": "markdown",
   "metadata": {},
   "source": [
    "## Conclusion\n",
    "### This is a basic a strategic model, which helps us to understand and test to see\n",
    "### if we can strategize our model based on variations in the data."
   ]
  },
  {
   "cell_type": "code",
   "execution_count": null,
   "metadata": {},
   "outputs": [],
   "source": []
  }
 ],
 "metadata": {
  "kernelspec": {
   "display_name": "Python 3",
   "language": "python",
   "name": "python3"
  },
  "language_info": {
   "codemirror_mode": {
    "name": "ipython",
    "version": 3
   },
   "file_extension": ".py",
   "mimetype": "text/x-python",
   "name": "python",
   "nbconvert_exporter": "python",
   "pygments_lexer": "ipython3",
   "version": "3.6.5"
  }
 },
 "nbformat": 4,
 "nbformat_minor": 2
}
